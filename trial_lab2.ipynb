{
 "cells": [
  {
   "cell_type": "code",
   "execution_count": 1,
   "id": "2924f6d1",
   "metadata": {},
   "outputs": [],
   "source": [
    "from dotenv import load_dotenv\n",
    "import os\n",
    "from openai import OpenAI\n",
    "openai = OpenAI()   \n",
    "import json\n",
    "from IPython.display import Markdown, display"
   ]
  },
  {
   "cell_type": "code",
   "execution_count": 2,
   "id": "2d470b7c",
   "metadata": {},
   "outputs": [
    {
     "data": {
      "text/plain": [
       "True"
      ]
     },
     "execution_count": 2,
     "metadata": {},
     "output_type": "execute_result"
    }
   ],
   "source": [
    "load_dotenv(override=True)"
   ]
  },
  {
   "cell_type": "code",
   "execution_count": 3,
   "id": "307c262d",
   "metadata": {},
   "outputs": [
    {
     "name": "stdout",
     "output_type": "stream",
     "text": [
      "OpenAI API Key exists and begins sk-proj-\n"
     ]
    }
   ],
   "source": [
    "openai_api_key = os.getenv('OPENAI_API_KEY')\n",
    "if openai_api_key:\n",
    "    print(f\"OpenAI API Key exists and begins {openai_api_key[:8]}\")\n",
    "else:\n",
    "    raise ValueError(\"OpenAI API Key is not set in the environment variables.\")"
   ]
  },
  {
   "cell_type": "code",
   "execution_count": 4,
   "id": "16cb41db",
   "metadata": {},
   "outputs": [],
   "source": [
    "openai = OpenAI()"
   ]
  },
  {
   "cell_type": "code",
   "execution_count": 5,
   "id": "74c04e91",
   "metadata": {},
   "outputs": [],
   "source": [
    "request = \"Come up with a really tough question related to global warming, that i can validate with other LLM's for their accuracy.\"\n",
    "request += \"Only return the question, do not return any other text.\"\n",
    "messages = [\n",
    "    {\"role\": \"user\", \"content\": request}\n",
    "]\n"
   ]
  },
  {
   "cell_type": "code",
   "execution_count": 6,
   "id": "81ba9fdb",
   "metadata": {},
   "outputs": [
    {
     "data": {
      "text/plain": [
       "[{'role': 'user',\n",
       "  'content': \"Come up with a really tough question related to global warming, that i can validate with other LLM's for their accuracy.Only return the question, do not return any other text.\"}]"
      ]
     },
     "execution_count": 6,
     "metadata": {},
     "output_type": "execute_result"
    }
   ],
   "source": [
    "messages "
   ]
  },
  {
   "cell_type": "code",
   "execution_count": 9,
   "id": "fbb07452",
   "metadata": {},
   "outputs": [
    {
     "name": "stdout",
     "output_type": "stream",
     "text": [
      "What are the projected impacts of a 2°C increase in global average temperatures on the frequency and intensity of extreme weather events and their socio-economic repercussions in vulnerable regions?\n"
     ]
    }
   ],
   "source": [
    "openai = OpenAI()\n",
    "response = openai.chat.completions.create(\n",
    "    model=\"gpt-4o-mini\",\n",
    "    messages=messages)\n",
    "question = response.choices[0].message.content\n",
    "print(question)"
   ]
  },
  {
   "cell_type": "code",
   "execution_count": 12,
   "id": "ee37e568",
   "metadata": {},
   "outputs": [],
   "source": [
    "competitors = []\n",
    "responses = []\n",
    "messages = [\n",
    "    {\"role\": \"user\", \"content\": question}\n",
    "]"
   ]
  },
  {
   "cell_type": "code",
   "execution_count": 13,
   "id": "efb677ed",
   "metadata": {},
   "outputs": [
    {
     "data": {
      "text/markdown": [
       "A projected increase of 2°C in global average temperatures is expected to have significant impacts on the frequency and intensity of extreme weather events, which in turn would have profound socio-economic repercussions, particularly in vulnerable regions. Here are some of the key anticipated impacts:\n",
       "\n",
       "### 1. **Increased Frequency and Intensity of Extreme Weather Events**\n",
       "   - **Heat Waves:** The likelihood of heat waves will rise, leading to health crises, increased mortality rates, and straining healthcare systems.\n",
       "   - **Heavy Precipitation and Flooding:** More intense rainfall events will lead to flooding, disrupting infrastructure, damaging homes, and causing agricultural losses.\n",
       "   - **Droughts:** Regions that are already prone to arid conditions may suffer from prolonged droughts, impacting water availability, agriculture, and food security.\n",
       "   - **Tropical Cyclones:** The intensity of tropical storms and hurricanes is expected to increase, leading to more devastating winds and flooding in coastal areas.\n",
       "   - **Wildfires:** Higher temperatures and prolonged dry seasons will enhance wildfire risks, particularly in forested and grassland regions.\n",
       "\n",
       "### 2. **Socio-Economic Repercussions**\n",
       "   - **Agriculture and Food Security:** Extreme weather events can lead to crop failures, impacting food supply chains and increasing prices. Vulnerable populations, particularly in developing regions, will face food scarcity and malnutrition.\n",
       "   - **Water Resources:** Changes in precipitation patterns and increased evaporation due to higher temperatures will exacerbate water shortages, affecting both urban and rural communities.\n",
       "   - **Health Issues:** The rise in extreme weather events may lead to direct health impacts, such as injuries from storms and indirect effects, like increased respiratory issues due to smoke from wildfires and heat-related illnesses.\n",
       "   - **Economic Losses:** Damage to infrastructure (transportation, healthcare, housing) can lead to significant economic losses. The costs of rebuilding and recovery will strain local and national economies, especially in low-income countries.\n",
       "   - **Displacement and Migration:** Increased severity and frequency of weather-related disasters may lead to displacement of populations, creating climate refugees and exacerbating tensions in receiving areas or countries.\n",
       "   - **Livelihoods at Risk:** Many regions depend on climate-sensitive sectors (e.g., agriculture, fisheries, tourism); the impacts of climate change can lead to job losses and economic instability in these sectors.\n",
       "\n",
       "### 3. **Vulnerable Regions**\n",
       "   - **Developing Countries:** Many of the hardest-hit areas are in developing nations where adaptive capacity is limited due to economic constraints, lack of infrastructure, and weaker governance.\n",
       "   - **Small Island Developing States (SIDS):** These regions face existential threats from rising sea levels and more intense storms, jeopardizing their very existence.\n",
       "   - **Low-Lying Coastal Areas:** Regions along coastlines are particularly susceptible to flooding and storm surges.\n",
       "\n",
       "In summary, a 2°C rise in global temperatures is predicted to intensify existing extreme weather phenomena, leading to a cascade of socio-economic challenges that disproportionately affect vulnerable populations and regions. Addressing these impacts requires proactive adaptation strategies, international cooperation, and enhanced resilience-building efforts to help vulnerable communities mitigate the impending threats associated with climate change."
      ],
      "text/plain": [
       "<IPython.core.display.Markdown object>"
      ]
     },
     "metadata": {},
     "output_type": "display_data"
    }
   ],
   "source": [
    "model_name = \"gpt-4o-mini\"\n",
    "response = openai.chat.completions.create(\n",
    "    model= model_name,\n",
    "    messages=messages)\n",
    "answer = response.choices[0].message.content\n",
    "display(Markdown(answer))   \n",
    "competitors.append(model_name)\n",
    "responses.append(answer)"
   ]
  },
  {
   "cell_type": "code",
   "execution_count": 14,
   "id": "6271325c",
   "metadata": {},
   "outputs": [
    {
     "name": "stdout",
     "output_type": "stream",
     "text": [
      "gpt-4o-mini\n"
     ]
    }
   ],
   "source": [
    "print(competitors[0])"
   ]
  },
  {
   "cell_type": "code",
   "execution_count": 15,
   "id": "ec48809a",
   "metadata": {},
   "outputs": [
    {
     "name": "stdout",
     "output_type": "stream",
     "text": [
      "A projected increase of 2°C in global average temperatures is expected to have significant impacts on the frequency and intensity of extreme weather events, which in turn would have profound socio-economic repercussions, particularly in vulnerable regions. Here are some of the key anticipated impacts:\n",
      "\n",
      "### 1. **Increased Frequency and Intensity of Extreme Weather Events**\n",
      "   - **Heat Waves:** The likelihood of heat waves will rise, leading to health crises, increased mortality rates, and straining healthcare systems.\n",
      "   - **Heavy Precipitation and Flooding:** More intense rainfall events will lead to flooding, disrupting infrastructure, damaging homes, and causing agricultural losses.\n",
      "   - **Droughts:** Regions that are already prone to arid conditions may suffer from prolonged droughts, impacting water availability, agriculture, and food security.\n",
      "   - **Tropical Cyclones:** The intensity of tropical storms and hurricanes is expected to increase, leading to more devastating winds and flooding in coastal areas.\n",
      "   - **Wildfires:** Higher temperatures and prolonged dry seasons will enhance wildfire risks, particularly in forested and grassland regions.\n",
      "\n",
      "### 2. **Socio-Economic Repercussions**\n",
      "   - **Agriculture and Food Security:** Extreme weather events can lead to crop failures, impacting food supply chains and increasing prices. Vulnerable populations, particularly in developing regions, will face food scarcity and malnutrition.\n",
      "   - **Water Resources:** Changes in precipitation patterns and increased evaporation due to higher temperatures will exacerbate water shortages, affecting both urban and rural communities.\n",
      "   - **Health Issues:** The rise in extreme weather events may lead to direct health impacts, such as injuries from storms and indirect effects, like increased respiratory issues due to smoke from wildfires and heat-related illnesses.\n",
      "   - **Economic Losses:** Damage to infrastructure (transportation, healthcare, housing) can lead to significant economic losses. The costs of rebuilding and recovery will strain local and national economies, especially in low-income countries.\n",
      "   - **Displacement and Migration:** Increased severity and frequency of weather-related disasters may lead to displacement of populations, creating climate refugees and exacerbating tensions in receiving areas or countries.\n",
      "   - **Livelihoods at Risk:** Many regions depend on climate-sensitive sectors (e.g., agriculture, fisheries, tourism); the impacts of climate change can lead to job losses and economic instability in these sectors.\n",
      "\n",
      "### 3. **Vulnerable Regions**\n",
      "   - **Developing Countries:** Many of the hardest-hit areas are in developing nations where adaptive capacity is limited due to economic constraints, lack of infrastructure, and weaker governance.\n",
      "   - **Small Island Developing States (SIDS):** These regions face existential threats from rising sea levels and more intense storms, jeopardizing their very existence.\n",
      "   - **Low-Lying Coastal Areas:** Regions along coastlines are particularly susceptible to flooding and storm surges.\n",
      "\n",
      "In summary, a 2°C rise in global temperatures is predicted to intensify existing extreme weather phenomena, leading to a cascade of socio-economic challenges that disproportionately affect vulnerable populations and regions. Addressing these impacts requires proactive adaptation strategies, international cooperation, and enhanced resilience-building efforts to help vulnerable communities mitigate the impending threats associated with climate change.\n"
     ]
    }
   ],
   "source": [
    "print(responses[0])"
   ]
  },
  {
   "cell_type": "code",
   "execution_count": null,
   "id": "404a7703",
   "metadata": {},
   "outputs": [],
   "source": []
  }
 ],
 "metadata": {
  "kernelspec": {
   "display_name": ".venv",
   "language": "python",
   "name": "python3"
  },
  "language_info": {
   "codemirror_mode": {
    "name": "ipython",
    "version": 3
   },
   "file_extension": ".py",
   "mimetype": "text/x-python",
   "name": "python",
   "nbconvert_exporter": "python",
   "pygments_lexer": "ipython3",
   "version": "3.12.11"
  }
 },
 "nbformat": 4,
 "nbformat_minor": 5
}
