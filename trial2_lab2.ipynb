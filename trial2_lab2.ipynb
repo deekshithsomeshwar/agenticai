{
 "cells": [
  {
   "cell_type": "code",
   "execution_count": 1,
   "id": "46e3305e",
   "metadata": {},
   "outputs": [],
   "source": [
    "from dotenv import load_dotenv\n",
    "import os\n",
    "import json\n",
    "from IPython.display import display, Markdown"
   ]
  },
  {
   "cell_type": "code",
   "execution_count": 2,
   "id": "795570ac",
   "metadata": {},
   "outputs": [],
   "source": [
    "from openai import OpenAI"
   ]
  },
  {
   "cell_type": "code",
   "execution_count": 3,
   "id": "b9465504",
   "metadata": {},
   "outputs": [
    {
     "data": {
      "text/plain": [
       "True"
      ]
     },
     "execution_count": 3,
     "metadata": {},
     "output_type": "execute_result"
    }
   ],
   "source": [
    "load_dotenv(override=True)"
   ]
  },
  {
   "cell_type": "code",
   "execution_count": 22,
   "id": "1a6af268",
   "metadata": {},
   "outputs": [
    {
     "name": "stdout",
     "output_type": "stream",
     "text": [
      "OpenAI API key loaded successfully.\n"
     ]
    }
   ],
   "source": [
    "openai_api_key = os.getenv('OPENAI_API_KEY')\n",
    "if openai_api_key:\n",
    "    print(\"OpenAI API key loaded successfully.\")\n",
    "else:\n",
    "    print(\"Failed to load OpenAI API key. Please check your .env file.\")     "
   ]
  },
  {
   "cell_type": "code",
   "execution_count": 23,
   "id": "e4bffb9e",
   "metadata": {},
   "outputs": [
    {
     "data": {
      "text/plain": [
       "[{'role': 'user',\n",
       "  'content': 'what is the most important thing to know about the universe? answer only with a question, no explanations'}]"
      ]
     },
     "execution_count": 23,
     "metadata": {},
     "output_type": "execute_result"
    }
   ],
   "source": [
    "test_question = \"what is the most important thing to know about the universe? \"\n",
    "test_question += \"answer only with a question, no explanations\"\n",
    "\n",
    "messages = [\n",
    "    {\"role\": \"user\", \"content\": test_question}]\n",
    "\n",
    "messages"
   ]
  },
  {
   "cell_type": "code",
   "execution_count": 24,
   "id": "b1da3415",
   "metadata": {},
   "outputs": [
    {
     "name": "stdout",
     "output_type": "stream",
     "text": [
      "What is the nature of dark matter and dark energy?\n"
     ]
    }
   ],
   "source": [
    "openai = OpenAI()\n",
    "response = openai.chat.completions.create(\n",
    "    model=\"gpt-4o-mini\",\n",
    "    messages=messages)\n",
    "question = response.choices[0].message.content\n",
    "print(question)\n"
   ]
  },
  {
   "cell_type": "code",
   "execution_count": 36,
   "id": "ccf50f09",
   "metadata": {},
   "outputs": [],
   "source": [
    "creator = []\n",
    "creator_response = []\n",
    "messages = [\n",
    "    {\"role\": \"user\", \"content\": question}\n",
    "]"
   ]
  },
  {
   "cell_type": "code",
   "execution_count": null,
   "id": "35718245",
   "metadata": {},
   "outputs": [],
   "source": []
  },
  {
   "cell_type": "code",
   "execution_count": null,
   "id": "fd123750",
   "metadata": {},
   "outputs": [],
   "source": [
    "!ollama pull llama3.2"
   ]
  },
  {
   "cell_type": "code",
   "execution_count": 37,
   "id": "0ccee16d",
   "metadata": {},
   "outputs": [
    {
     "data": {
      "text/markdown": [
       "**Ollama answer:** The nature of dark matter and dark energy remains one of the greatest mysteries in modern astrophysics. Despite extensive research, these two components make up approximately 95% of the universe's total mass-energy density.\n",
       "\n",
       "1) Dark Matter: It's estimated that around 27-30% of the universe is composed of dark matter. The properties of dark matter are not well understood and are still an active area of study. However, it's thought to be non-luminous but gravitically influential; as a result, its presence can only be observed through indirect means using methods like gravitational lensing.\n",
       "\n",
       "Dark matter's exact nature remains speculative due to the lack of direct observational evidence. Scientists consider theories such as WIMPs (Weakly Interacting Massive Particles) and axions for explanations.\n",
       "\n",
       "2) Dark Energy: Approximately 68% of the universe is thought to be composed of dark energy, a mysterious entity driving its accelerating expansion. The exact cause and nature of dark energy continue to puzzle scientists."
      ],
      "text/plain": [
       "<IPython.core.display.Markdown object>"
      ]
     },
     "metadata": {},
     "output_type": "display_data"
    }
   ],
   "source": [
    "ollama = OpenAI(base_url=\"http://localhost:11434/v1\", api_key=\"ollama\")\n",
    "model_name = \"llama3.2\"\n",
    "response = ollama.chat.completions.create(model=model_name,\n",
    "    messages=messages)\n",
    "answer = response.choices[0].message.content\n",
    "\n",
    "display(Markdown(f\"**Ollama answer:** {answer}\"))\n",
    "creator.append(model_name)\n",
    "creator_response.append(answer)"
   ]
  },
  {
   "cell_type": "code",
   "execution_count": null,
   "id": "c5364f9c",
   "metadata": {},
   "outputs": [],
   "source": []
  },
  {
   "cell_type": "code",
   "execution_count": 40,
   "id": "b40d19aa",
   "metadata": {},
   "outputs": [
    {
     "data": {
      "text/markdown": [
       "**OpenAI answer:** Dark matter and dark energy are two of the most significant components of the universe, yet they remain largely mysterious to scientists. Both are essential for understanding the cosmos, but they have different properties and roles.\n",
       "\n",
       "### Dark Matter:\n",
       "\n",
       "1. **Nature**: Dark matter is a form of matter that does not emit, absorb, or reflect light, making it invisible and detectable only through its gravitational effects. It is believed to account for approximately 27% of the universe's total mass-energy content.\n",
       "\n",
       "2. **Evidence**: The presence of dark matter is inferred from various astronomical observations, including:\n",
       "   - **Galaxy rotation curves**: Stars in galaxies rotate around the center at higher speeds than would be expected based solely on the visible matter. The extra mass provided by dark matter accounts for this discrepancy.\n",
       "   - **Gravitational lensing**: Light from distant objects is bent around massive foreground objects. The amount of lensing observed suggests the presence of more mass than what is visible.\n",
       "   - **Cosmic Microwave Background (CMB)**: Measurements of the CMB suggest the existence of dark matter as it influences the formation of the large-scale structure of the universe.\n",
       "\n",
       "3. **Candidates**: While the exact nature of dark matter is unknown, several candidates have been proposed:\n",
       "   - **Weakly Interacting Massive Particles (WIMPs)**: Hypothetical particles that interact via weak nuclear force and gravity.\n",
       "   - **Axions**: Extremely light particles that are also a candidate for dark matter.\n",
       "   - **Sterile neutrinos**: Hypothetical neutrinos that do not interact through the standard weak interactions.\n",
       "\n",
       "### Dark Energy:\n",
       "\n",
       "1. **Nature**: Dark energy is a mysterious form of energy that is believed to permeate all of space and is responsible for the observed accelerated expansion of the universe. It constitutes about 68% of the universe's total mass-energy content.\n",
       "\n",
       "2. **Evidence**: The existence of dark energy is inferred from various observations, particularly:\n",
       "   - **Supernova observations**: The discovery that distant supernovae are fainter than expected suggests that the expansion of the universe is accelerating, which implies the influence of dark energy.\n",
       "   - **Large Scale Structure**: The distribution of galaxy clusters and observations of the cosmic microwave background reveal an acceleration in the universe's expansion rate.\n",
       "\n",
       "3. **Candidates**: The nature of dark energy is still not understood, but some theoretical models include:\n",
       "   - **Cosmological Constant**: A constant energy density filling space homogeneously, associated with the energy of empty space.\n",
       "   - **Dynamical Dark Energy**: Models that involve a time-varying energy density (like quintessence), which can evolve over time.\n",
       "\n",
       "### Summary:\n",
       "\n",
       "In summary, dark matter interacts primarily through gravity and is responsible for the structure of the universe, while dark energy drives its accelerated expansion. Both remain topics of intense research in astrophysics and cosmology, as understanding their true nature is one of the major challenges in modern physics."
      ],
      "text/plain": [
       "<IPython.core.display.Markdown object>"
      ]
     },
     "metadata": {},
     "output_type": "display_data"
    }
   ],
   "source": [
    "model_name = \"gpt-4o-mini\"\n",
    "response = openai.chat.completions.create(\n",
    "    model=model_name,\n",
    "    messages=messages)\n",
    "answer = response.choices[0].message.content\n",
    "display(Markdown(f\"**OpenAI answer:** {answer}\"))\n",
    "creator.append(model_name)\n",
    "creator_response.append(answer)"
   ]
  },
  {
   "cell_type": "code",
   "execution_count": 41,
   "id": "e5dcfb96",
   "metadata": {},
   "outputs": [
    {
     "name": "stdout",
     "output_type": "stream",
     "text": [
      "['llama3.2', 'gpt-4o-mini']\n"
     ]
    }
   ],
   "source": [
    "print(creator)\n"
   ]
  },
  {
   "cell_type": "code",
   "execution_count": 43,
   "id": "f45ac0ae",
   "metadata": {},
   "outputs": [],
   "source": [
    "ranking = f\"Go through the 2 responses received from the two models in {creator_response} and rank them based on their quality. Provide under 25 words explaination on the reason for the ranking \"\n",
    "messages = [\n",
    "    {\"role\": \"user\", \"content\": ranking}]"
   ]
  },
  {
   "cell_type": "code",
   "execution_count": 44,
   "id": "e4128c54",
   "metadata": {},
   "outputs": [
    {
     "data": {
      "text/markdown": [
       "**Ranking:** I would rank the second response higher than the first. \n",
       "\n",
       "The second response is more detailed, well-structured, and provides clearer explanations and evidence for both dark matter and dark energy."
      ],
      "text/plain": [
       "<IPython.core.display.Markdown object>"
      ]
     },
     "metadata": {},
     "output_type": "display_data"
    }
   ],
   "source": [
    "response = openai.chat.completions.create(\n",
    "    model=\"gpt-4o-mini\",\n",
    "    messages=messages)\n",
    "creator_ranking = response.choices[0].message.content\n",
    "display(Markdown(f\"**Ranking:** {creator_ranking}\"))"
   ]
  },
  {
   "cell_type": "code",
   "execution_count": 47,
   "id": "a299832b",
   "metadata": {},
   "outputs": [
    {
     "data": {
      "text/markdown": [
       "**Ranking:** **Ranking:**\n",
       "\n",
       "1. **First Response**: More comprehensive explanation, covering the basics of dark matter and energy in detail.\n",
       "\t* Reason: It delves into both topics more deeply and with proper citations.\n",
       "\n",
       "2. **Second Response**: While detailed, suffers from repetition and less coherent summaries for each topic.\n",
       "\t* Reason: Repetitive sentence structure reduces clarity and overall quality of the text.\n",
       "\n",
       "3. **Third Response**: Lacks a summary section and uses overly long sentences, confusing readability.\n",
       "\t* Reason: The lack of clear conclusions and excessive sentencing dilutes understanding.\n",
       "\n",
       "4. **Fourth Response**: Similar issues with lengthy sentences and missed key details in its sections on dark energy candidates.\n",
       "\t* Reason: Lack of summaries undermines cohesion and effective communication of main points.\n",
       "\n",
       "5. **Fifth Response**: Most confusing, especially for a general audience due to complex terminology without adequate context.\n",
       "\t* Reason: Heavy reliance on technical terms makes the content challenging to grasp without prior knowledge or context."
      ],
      "text/plain": [
       "<IPython.core.display.Markdown object>"
      ]
     },
     "metadata": {},
     "output_type": "display_data"
    }
   ],
   "source": [
    "ollama = OpenAI(base_url=\"http://localhost:11434/v1\", api_key=\"ollama\")\n",
    "model_name = \"llama3.2\"\n",
    "\n",
    "response = ollama.chat.completions.create(model=model_name,\n",
    "    messages=messages)\n",
    "\n",
    "creator_ranking = response.choices[0].message.content\n",
    "display(Markdown(f\"**Ranking:** {creator_ranking}\"))"
   ]
  },
  {
   "cell_type": "code",
   "execution_count": 55,
   "id": "15246043",
   "metadata": {},
   "outputs": [
    {
     "data": {
      "text/markdown": [
       "**Response:**llama3.2: The nature of dark matter and dark energy remains one of the greatest mysteries in modern astrophysics. Despite extensive research, these two components make up approximately 95% of the universe's total mass-energy density.\n",
       "\n",
       "1) Dark Matter: It's estimated that around 27-30% of the universe is composed of dark matter. The properties of dark matter are not well understood and are still an active area of study. However, it's thought to be non-luminous but gravitically influential; as a result, its presence can only be observed through indirect means using methods like gravitational lensing.\n",
       "\n",
       "Dark matter's exact nature remains speculative due to the lack of direct observational evidence. Scientists consider theories such as WIMPs (Weakly Interacting Massive Particles) and axions for explanations.\n",
       "\n",
       "2) Dark Energy: Approximately 68% of the universe is thought to be composed of dark energy, a mysterious entity driving its accelerating expansion. The exact cause and nature of dark energy continue to puzzle scientists."
      ],
      "text/plain": [
       "<IPython.core.display.Markdown object>"
      ]
     },
     "metadata": {},
     "output_type": "display_data"
    },
    {
     "data": {
      "text/markdown": [
       "**Response:**gpt-4o-mini: Dark matter and dark energy are two of the most significant components of the universe, yet they remain largely mysterious to scientists. Both are essential for understanding the cosmos, but they have different properties and roles.\n",
       "\n",
       "### Dark Matter:\n",
       "\n",
       "1. **Nature**: Dark matter is a form of matter that does not emit, absorb, or reflect light, making it invisible and detectable only through its gravitational effects. It is believed to account for approximately 27% of the universe's total mass-energy content.\n",
       "\n",
       "2. **Evidence**: The presence of dark matter is inferred from various astronomical observations, including:\n",
       "   - **Galaxy rotation curves**: Stars in galaxies rotate around the center at higher speeds than would be expected based solely on the visible matter. The extra mass provided by dark matter accounts for this discrepancy.\n",
       "   - **Gravitational lensing**: Light from distant objects is bent around massive foreground objects. The amount of lensing observed suggests the presence of more mass than what is visible.\n",
       "   - **Cosmic Microwave Background (CMB)**: Measurements of the CMB suggest the existence of dark matter as it influences the formation of the large-scale structure of the universe.\n",
       "\n",
       "3. **Candidates**: While the exact nature of dark matter is unknown, several candidates have been proposed:\n",
       "   - **Weakly Interacting Massive Particles (WIMPs)**: Hypothetical particles that interact via weak nuclear force and gravity.\n",
       "   - **Axions**: Extremely light particles that are also a candidate for dark matter.\n",
       "   - **Sterile neutrinos**: Hypothetical neutrinos that do not interact through the standard weak interactions.\n",
       "\n",
       "### Dark Energy:\n",
       "\n",
       "1. **Nature**: Dark energy is a mysterious form of energy that is believed to permeate all of space and is responsible for the observed accelerated expansion of the universe. It constitutes about 68% of the universe's total mass-energy content.\n",
       "\n",
       "2. **Evidence**: The existence of dark energy is inferred from various observations, particularly:\n",
       "   - **Supernova observations**: The discovery that distant supernovae are fainter than expected suggests that the expansion of the universe is accelerating, which implies the influence of dark energy.\n",
       "   - **Large Scale Structure**: The distribution of galaxy clusters and observations of the cosmic microwave background reveal an acceleration in the universe's expansion rate.\n",
       "\n",
       "3. **Candidates**: The nature of dark energy is still not understood, but some theoretical models include:\n",
       "   - **Cosmological Constant**: A constant energy density filling space homogeneously, associated with the energy of empty space.\n",
       "   - **Dynamical Dark Energy**: Models that involve a time-varying energy density (like quintessence), which can evolve over time.\n",
       "\n",
       "### Summary:\n",
       "\n",
       "In summary, dark matter interacts primarily through gravity and is responsible for the structure of the universe, while dark energy drives its accelerated expansion. Both remain topics of intense research in astrophysics and cosmology, as understanding their true nature is one of the major challenges in modern physics."
      ],
      "text/plain": [
       "<IPython.core.display.Markdown object>"
      ]
     },
     "metadata": {},
     "output_type": "display_data"
    }
   ],
   "source": [
    "for i,j in zip(creator_response, creator):\n",
    "    display(Markdown(f\"**Response:**{j}: {i}\"))"
   ]
  },
  {
   "cell_type": "code",
   "execution_count": null,
   "id": "d1aac88c",
   "metadata": {},
   "outputs": [],
   "source": []
  }
 ],
 "metadata": {
  "kernelspec": {
   "display_name": ".venv",
   "language": "python",
   "name": "python3"
  },
  "language_info": {
   "codemirror_mode": {
    "name": "ipython",
    "version": 3
   },
   "file_extension": ".py",
   "mimetype": "text/x-python",
   "name": "python",
   "nbconvert_exporter": "python",
   "pygments_lexer": "ipython3",
   "version": "3.12.11"
  }
 },
 "nbformat": 4,
 "nbformat_minor": 5
}
