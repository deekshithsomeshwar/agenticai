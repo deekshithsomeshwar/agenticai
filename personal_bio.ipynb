"""A simple chatbox that can answer some questions related to education, Work experience etc"""
"""Needs a folder to be created with 2 files in it. 1. profile.pdf and 2. summary.txt or .rtf"""
{
 "cells": [
  {
   "cell_type": "code",
   "execution_count": 6,
   "id": "95361b58",
   "metadata": {},
   "outputs": [],
   "source": [
    "from dotenv import load_dotenv\n",
    "from openai import OpenAI\n",
    "from pypdf import PdfReader\n",
    "import gradio as gr\n",
    "import os"
   ]
  },
  {
   "cell_type": "code",
   "execution_count": 2,
   "id": "e52a68cd",
   "metadata": {},
   "outputs": [
    {
     "data": {
      "text/plain": [
       "True"
      ]
     },
     "execution_count": 2,
     "metadata": {},
     "output_type": "execute_result"
    }
   ],
   "source": [
    "load_dotenv(override=True)"
   ]
  },
  {
   "cell_type": "code",
   "execution_count": 4,
   "id": "436e8f95",
   "metadata": {},
   "outputs": [],
   "source": [
    "openai = OpenAI()"
   ]
  },
  {
   "cell_type": "code",
   "execution_count": 10,
   "id": "8006604f",
   "metadata": {},
   "outputs": [
    {
     "name": "stdout",
     "output_type": "stream",
     "text": [
      "API key set\n"
     ]
    }
   ],
   "source": [
    "api_key = os.getenv(\"OPENAI_API_KEY\")\n",
    "if not api_key:\n",
    "    raise ValueError(\"OPENAI_API_KEY is not set in the environment variables.\") \n",
    "else:\n",
    "    print(\"API key set\")"
   ]
  },
  {
   "cell_type": "code",
   "execution_count": 16,
   "id": "02e27aba",
   "metadata": {},
   "outputs": [],
   "source": [
    "# Function to read PDF and extract text\n",
    "reader = PdfReader(\"info folder/profile.pdf\")\n",
    "linkedin = \"\"\n",
    "for page in reader.pages:\n",
    "    text = page.extract_text()\n",
    "    if text:\n",
    "        linkedin += text"
   ]
  },
  {
   "cell_type": "code",
   "execution_count": 17,
   "id": "f3534d27",
   "metadata": {},
   "outputs": [],
   "source": [
    "#opening the summary.rtf file\n",
    "with open(\"info folder/summary.rtf\", \"r\") as file:\n",
    "    summary = file.read()"
   ]
  },
  {
   "cell_type": "code",
   "execution_count": null,
   "id": "3bf5fef9",
   "metadata": {},
   "outputs": [
    {
     "name": "stdout",
     "output_type": "stream",
     "text": [
      "{\\rtf1\\ansi\\ansicpg1252\\cocoartf2821\n",
      "\\cocoatextscaling0\\cocoaplatform0{\\fonttbl\\f0\\fswiss\\fcharset0 Helvetica;}\n",
      "{\\colortbl;\\red255\\green255\\blue255;}\n",
      "{\\*\\expandedcolortbl;;}\n",
      "\\paperw11900\\paperh16840\\margl1440\\margr1440\\vieww11520\\viewh8400\\viewkind0\n",
      "\\pard\\tx720\\tx1440\\tx2160\\tx2880\\tx3600\\tx4320\\tx5040\\tx5760\\tx6480\\tx7200\\tx7920\\tx8640\\pardirnatural\\partightenfactor0\n",
      "\n",
      "\\f0\\fs24 \\cf0 \\\n",
      "\\\n",
      "### **Education**\\\n",
      "\\\n",
      "* **Schooling (1st\\'9610th Standard):**\\\n",
      "  Attended **Oxford English School**, Bangalore.\\\n",
      "  Secured **88%** in the 10th standard (SSLC), which is considered a **distinction**.\\\n",
      "\\\n",
      "* **Pre-University (PU College):**\\\n",
      "  Studied at **The Oxford PU College**, Bangalore.\\\n",
      "  Graduated with **66%**, categorized as a **second class**.\\\n",
      "\\\n",
      "* **Undergraduate Degree:**\\\n",
      "  Completed a **Bachelor of Arts (B.A.)** specializing in **Psychology** from **University of Mysore**, Mysore.\\\n",
      "  The degree was pursued through **distance education / correspondence mode**.\\\n",
      "\\\n",
      "* **Postgraduate Education:**\\\n",
      "  **Currently pursuing an MBA** (Master of Business Administration) with a specialization in **Information Technology (IT)** from **University of Mysore**, Mysore.\\\n",
      "  This program is also being completed via **distance education / correspondence**.\\\n",
      "\\\n",
      "---\\\n",
      "\\\n",
      "###  **Work Experience**\\\n",
      "\\\n",
      "* Brings **20 years of experience** in the **Information Technology (IT)** industry.\\\n",
      "* Specialized in **Project Management** and **Program Management**, with significant leadership in delivering large-scale technology initiatives.\\\n",
      "* Strong focus on **Agile methodologies**, particularly **Scrum** and **Kanban**, to drive high-performance team outcomes.\\\n",
      "* Worked **primarily in product-based companies**, including **Dell** and **HP**, gaining deep exposure to enterprise product development, cross-functional collaboration, and customer-centric innovation.\\\n",
      "* Experienced in aligning delivery execution with business goals and navigating dynamic tech landscapes.\\\n",
      "\\\n",
      "---\\\n",
      "\\\n",
      "###  **Interests & Learning**\\\n",
      "\\\n",
      "* Passionate about **continuous learning** and staying updated with **emerging technologies**.\\\n",
      "* Currently inclined toward exploring and understanding new trends in **Artificial Intelligence (AI)** and **adapting to evolving market demands**.\\\n",
      "* Interested in leveraging AI tools and frameworks to improve delivery, automation, and decision-making in IT programs.\\\n",
      "\\\n",
      "}\n"
     ]
    }
   ],
   "source": [
    "#check if the summary is read correctly\n",
    "print(summary)"
   ]
  },
  {
   "cell_type": "code",
   "execution_count": 23,
   "id": "d9b9cd23",
   "metadata": {},
   "outputs": [],
   "source": [
    "#setting the system prompt\n",
    "name = \"Deekshith Someshwar\"\n",
    "system_prompt = f\"You are acting as {name}. You are going to answer question on {name}'s personal bio. \\\n",
    "You will be given a summary of {name}'s personal bio and a LinkedIn profile. You will answer the question \\\n",
    "based on the summary and LinkedIn profile. Your responsibility is to answer questions about {name} \\\n",
    "as professionally and accurately as possible. You are given {name}'s summary and linkedin profile, and its  \\\n",
    "your responsibility to answer questions about {name} as professionally and accurately as possible. \\\n",
    "You will be given a question and you will answer the question based on the summary and LinkedIn profile. \\\n",
    "You will politely decline to answer {name}'s personal information other than what is provided and mention this is a professional \\\n",
    "bio and to reach out to me if they wish to know me personally\"\n",
    "system_prompt += f\"\\n\\nSummary:\\n{summary}\\n\\nLinkedIn Profile:\\n{linkedin}\"    \n",
    "system_prompt += \"\\n\\nYou will be given a question and you will answer the question based on the summary and LinkedIn profile.\"\n"
   ]
  },
  {
   "cell_type": "code",
   "execution_count": 31,
   "id": "8da47d17",
   "metadata": {},
   "outputs": [],
   "source": [
    "def chat(message, history):\n",
    "    messages = [\n",
    "        {\"role\": \"system\", \"content\": system_prompt},\n",
    "        {\"role\": \"user\", \"content\": message}\n",
    "    ]\n",
    "    response = openai.chat.completions.create(\n",
    "        model=\"gpt-4o-mini\",\n",
    "        messages=messages,\n",
    "    )\n",
    "\n",
    "    return response.choices[0].message.content\n",
    "    "
   ]
  },
  {
   "cell_type": "code",
   "execution_count": null,
   "id": "7b26ab8b",
   "metadata": {},
   "outputs": [],
   "source": [
    "# Create a Gradio chat interface\n",
    "gr.ChatInterface(chat, type= \"messages\").launch()"
   ]
  },
  {
   "cell_type": "code",
   "execution_count": 33,
   "id": "a5aa3ef0",
   "metadata": {},
   "outputs": [],
   "source": [
    "#Adding a pydantic model to validate the output and come up with better output in case of errors\n",
    "from pydantic import BaseModel"
   ]
  },
  {
   "cell_type": "code",
   "execution_count": 34,
   "id": "80dd72d8",
   "metadata": {},
   "outputs": [],
   "source": [
    "class Evaluation(BaseModel):\n",
    "    is_acceptable: bool\n",
    "    feedback: str"
   ]
  },
  {
   "cell_type": "code",
   "execution_count": 40,
   "id": "e30303c7",
   "metadata": {},
   "outputs": [],
   "source": [
    "evaluator_system_prompt = f\"You are an evaluator. You will evaluate the output of the chat interface and decide if \\\n",
    "the output is acceptable or not. You will also provide feedback on the output. \\\n",
    "The agent is playing the role of {name} and is given to responsibility to answer questions about {name}'s personal bio. \\\n",
    "You will be given the output of the chat interface and you will evaluate the output based on the following criteria: \\\n",
    "1. The output should be relevant to the question asked. \\\n",
    "2. The output should be professional and accurate. \\\n",
    "3. The output should not contain any personal information other than what is provided in the summary and LinkedIn profile. \\\n",
    "4. The output should be polite and respectful. \\\n",
    "5. The output should not contain any offensive or inappropriate content. \"\n",
    "evaluator_system_prompt += f\"\\n\\n you will be given the {summary} and {linkedin} to evaluate the output. \"\n",
    "evaluator_system_prompt += \"\\n\\n With this context, you need to decide if the output is acceptable or not, and suggest to make changes \\\n",
    "    if it is not acceptable. \""
   ]
  },
  {
   "cell_type": "code",
   "execution_count": 41,
   "id": "8b6ed0f5",
   "metadata": {},
   "outputs": [],
   "source": [
    "def evaluator_user_prompt(reply, message, history):\n",
    "    user_prompt = f\" Here is the output of the chat interface:\\n\\n{reply}\\n\\nQuestion: {message}\\n\\nHistory: {history}\"\n",
    "    return user_prompt"
   ]
  },
  {
   "cell_type": "code",
   "execution_count": 48,
   "id": "15169aee",
   "metadata": {},
   "outputs": [],
   "source": [
    "def evaluate(reply, message, history) -> Evaluation:\n",
    "    messages = [\n",
    "        {\"role\": \"system\", \"content\": evaluator_system_prompt},\n",
    "        {\"role\": \"user\", \"content\": evaluator_user_prompt(reply, message, history)}\n",
    "    ]\n",
    "    response = openai.beta.chat.completions.parse(\n",
    "        model=\"gpt-4o-mini\",\n",
    "        messages=messages,\n",
    "        response_format = Evaluation\n",
    "    )\n",
    "\n",
    "    return response.choices[0].message.parsed"
   ]
  },
  {
   "cell_type": "code",
   "execution_count": 62,
   "id": "1c0c59e2",
   "metadata": {},
   "outputs": [],
   "source": [
    "def rerun(reply, message, history, feedback):\n",
    "    updated_system_prompt = system_prompt + f\"\\n\\nPrevious answer rejected\\nYou just tried to reply, but the quality control rejected your reply\\n\\n\"\n",
    "    updated_system_prompt += f\"##Your attempted answer:\\n{reply}\\n\\n\"\n",
    "    updated_system_prompt += f\"##Feedback:\\n{feedback}\\n\\n\"\n",
    "    messages = (\n",
    "        [{\"role\": \"system\", \"content\": updated_system_prompt}]+ history +\n",
    "        [{\"role\": \"user\", \"content\": message}]\n",
    "    )\n",
    "    response = openai.chat.completions.create(\n",
    "        model=\"gpt-4o-mini\",\n",
    "        messages=messages)\n",
    "    return response.choices[0].message.content"
   ]
  },
  {
   "cell_type": "code",
   "execution_count": 58,
   "id": "85960f22",
   "metadata": {},
   "outputs": [],
   "source": [
    "def chat(message, history):\n",
    "    messages = [\n",
    "        {\"role\": \"system\", \"content\": system_prompt}, \n",
    "        {\"role\": \"user\", \"content\": message}\n",
    "        ]\n",
    "    response = openai.chat.completions.create(\n",
    "        model=\"gpt-4o-mini\",\n",
    "        messages=messages,\n",
    "    )\n",
    "    reply = response.choices[0].message.content\n",
    "    evaluation = evaluate(reply, message, history)\n",
    "\n",
    "    if evaluation.is_acceptable:\n",
    "        print(\"Output is acceptable\" )\n",
    "    else:\n",
    "        print(\"Output is not acceptable. Feedback: \", evaluation.feedback)\n",
    "        reply = rerun(reply, message, history, evaluation.feedback)\n",
    "    return reply"
   ]
  },
  {
   "cell_type": "code",
   "execution_count": null,
   "id": "a5ec033c",
   "metadata": {},
   "outputs": [],
   "source": [
    "gr.ChatInterface(chat, type=\"messages\").launch()"
   ]
  },
  {
   "cell_type": "code",
   "execution_count": null,
   "id": "0e7bced1",
   "metadata": {},
   "outputs": [],
   "source": []
  }
 ],
 "metadata": {
  "kernelspec": {
   "display_name": ".venv",
   "language": "python",
   "name": "python3"
  },
  "language_info": {
   "codemirror_mode": {
    "name": "ipython",
    "version": 3
   },
   "file_extension": ".py",
   "mimetype": "text/x-python",
   "name": "python",
   "nbconvert_exporter": "python",
   "pygments_lexer": "ipython3",
   "version": "3.12.11"
  }
 },
 "nbformat": 4,
 "nbformat_minor": 5
}
